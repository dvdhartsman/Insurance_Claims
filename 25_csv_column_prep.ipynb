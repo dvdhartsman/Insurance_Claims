{
 "cells": [
  {
   "cell_type": "code",
   "execution_count": 1,
   "id": "fb9f0a42-f0e1-4c6f-840d-62d6d6887b41",
   "metadata": {},
   "outputs": [],
   "source": [
    "import pandas as pd\n",
    "import numpy as np\n",
    "import matplotlib.pyplot as plt\n",
    "import seaborn as sns\n",
    "%matplotlib inline\n",
    "\n",
    "import os \n"
   ]
  },
  {
   "cell_type": "code",
   "execution_count": 2,
   "id": "debd947e-6559-49de-b436-99aa364e78cf",
   "metadata": {},
   "outputs": [],
   "source": [
    "pd.set_option(\"display.max_columns\", None)"
   ]
  },
  {
   "cell_type": "code",
   "execution_count": 3,
   "id": "3cba9aab-1954-494f-9755-b84141e43c4c",
   "metadata": {},
   "outputs": [],
   "source": [
    "path = \"/Users/samalainabayeva/Documents/Omdena/\""
   ]
  },
  {
   "cell_type": "code",
   "execution_count": 4,
   "id": "a671a4b3-b60d-4041-9266-e1186574510f",
   "metadata": {},
   "outputs": [],
   "source": [
    "df = pd.read_csv(os.path.join(path, '25.csv'))"
   ]
  },
  {
   "cell_type": "code",
   "execution_count": 5,
   "id": "fa077ed4-03fa-423a-9db6-d68cc1758b13",
   "metadata": {},
   "outputs": [],
   "source": [
    "sample = pd.read_csv(os.path.join(path, \"sample_data_edited.csv\"), index_col=0)"
   ]
  },
  {
   "cell_type": "code",
   "execution_count": 6,
   "id": "5a08ca49-7c0c-414c-a96f-81659cc97fec",
   "metadata": {},
   "outputs": [
    {
     "data": {
      "text/plain": [
       "((56289, 28), (31448, 15))"
      ]
     },
     "execution_count": 6,
     "metadata": {},
     "output_type": "execute_result"
    }
   ],
   "source": [
    "sample.shape, df.shape"
   ]
  },
  {
   "cell_type": "code",
   "execution_count": 7,
   "id": "6e43a5ed-80c7-463a-b931-9aa0a611d9ed",
   "metadata": {},
   "outputs": [
    {
     "data": {
      "text/html": [
       "<div>\n",
       "<style scoped>\n",
       "    .dataframe tbody tr th:only-of-type {\n",
       "        vertical-align: middle;\n",
       "    }\n",
       "\n",
       "    .dataframe tbody tr th {\n",
       "        vertical-align: top;\n",
       "    }\n",
       "\n",
       "    .dataframe thead th {\n",
       "        text-align: right;\n",
       "    }\n",
       "</style>\n",
       "<table border=\"1\" class=\"dataframe\">\n",
       "  <thead>\n",
       "    <tr style=\"text-align: right;\">\n",
       "      <th></th>\n",
       "      <th>city</th>\n",
       "      <th>state</th>\n",
       "      <th>injury_type</th>\n",
       "      <th>serious_injury</th>\n",
       "      <th>other_injury</th>\n",
       "      <th>age_at_time_of_injury</th>\n",
       "      <th>airbag_deployed</th>\n",
       "      <th>accident_type</th>\n",
       "      <th>truck_bus_involved</th>\n",
       "      <th>truck_involved</th>\n",
       "      <th>taxi_involved</th>\n",
       "      <th>potential_tbi</th>\n",
       "      <th>state_of_injury</th>\n",
       "      <th>catastrophic</th>\n",
       "      <th>called_911</th>\n",
       "      <th>net_attorney_fee</th>\n",
       "      <th>total_bills</th>\n",
       "      <th>total_coverage</th>\n",
       "      <th>positive_mri_finding</th>\n",
       "      <th>life_care_plan_status</th>\n",
       "      <th>ortho_pain_neuro_eval</th>\n",
       "      <th>surgery_completed</th>\n",
       "      <th>surgery_injection_recom</th>\n",
       "      <th>similar_prior_injury</th>\n",
       "      <th>injections_completed</th>\n",
       "      <th>no_treatment_reason</th>\n",
       "      <th>tbi_confirmed</th>\n",
       "      <th>age</th>\n",
       "    </tr>\n",
       "  </thead>\n",
       "  <tbody>\n",
       "    <tr>\n",
       "      <th>0</th>\n",
       "      <td>New Smyrna Beach</td>\n",
       "      <td>FL</td>\n",
       "      <td>NaN</td>\n",
       "      <td>NaN</td>\n",
       "      <td>NaN</td>\n",
       "      <td>NaN</td>\n",
       "      <td>NaN</td>\n",
       "      <td>NaN</td>\n",
       "      <td>NaN</td>\n",
       "      <td>NaN</td>\n",
       "      <td>NaN</td>\n",
       "      <td>NaN</td>\n",
       "      <td>NaN</td>\n",
       "      <td>0</td>\n",
       "      <td>NaN</td>\n",
       "      <td>1152.51</td>\n",
       "      <td>NaN</td>\n",
       "      <td>NaN</td>\n",
       "      <td>NaN</td>\n",
       "      <td>NaN</td>\n",
       "      <td>NaN</td>\n",
       "      <td>NaN</td>\n",
       "      <td>NaN</td>\n",
       "      <td>NaN</td>\n",
       "      <td>NaN</td>\n",
       "      <td>NaN</td>\n",
       "      <td>0</td>\n",
       "      <td>65.0</td>\n",
       "    </tr>\n",
       "    <tr>\n",
       "      <th>1</th>\n",
       "      <td>Coral Springs</td>\n",
       "      <td>FL</td>\n",
       "      <td>NaN</td>\n",
       "      <td>NaN</td>\n",
       "      <td>NaN</td>\n",
       "      <td>NaN</td>\n",
       "      <td>NaN</td>\n",
       "      <td>NaN</td>\n",
       "      <td>NaN</td>\n",
       "      <td>NaN</td>\n",
       "      <td>NaN</td>\n",
       "      <td>NaN</td>\n",
       "      <td>NaN</td>\n",
       "      <td>0</td>\n",
       "      <td>NaN</td>\n",
       "      <td>2499.25</td>\n",
       "      <td>NaN</td>\n",
       "      <td>NaN</td>\n",
       "      <td>NaN</td>\n",
       "      <td>NaN</td>\n",
       "      <td>NaN</td>\n",
       "      <td>NaN</td>\n",
       "      <td>NaN</td>\n",
       "      <td>NaN</td>\n",
       "      <td>NaN</td>\n",
       "      <td>NaN</td>\n",
       "      <td>0</td>\n",
       "      <td>39.0</td>\n",
       "    </tr>\n",
       "    <tr>\n",
       "      <th>2</th>\n",
       "      <td>Lehigh Acres</td>\n",
       "      <td>FL</td>\n",
       "      <td>Other Injury / Pain</td>\n",
       "      <td>NaN</td>\n",
       "      <td>NaN</td>\n",
       "      <td>NaN</td>\n",
       "      <td>Yes</td>\n",
       "      <td>Multi Car</td>\n",
       "      <td>No</td>\n",
       "      <td>NaN</td>\n",
       "      <td>No</td>\n",
       "      <td>No</td>\n",
       "      <td>NaN</td>\n",
       "      <td>0</td>\n",
       "      <td>Yes</td>\n",
       "      <td>16666.67</td>\n",
       "      <td>30603.62</td>\n",
       "      <td>50000.0</td>\n",
       "      <td>Yes</td>\n",
       "      <td>Yes</td>\n",
       "      <td>Yes</td>\n",
       "      <td>NaN</td>\n",
       "      <td>No</td>\n",
       "      <td>No</td>\n",
       "      <td>NaN</td>\n",
       "      <td>NaN</td>\n",
       "      <td>0</td>\n",
       "      <td>41.0</td>\n",
       "    </tr>\n",
       "  </tbody>\n",
       "</table>\n",
       "</div>"
      ],
      "text/plain": [
       "               city state          injury_type serious_injury other_injury  \\\n",
       "0  New Smyrna Beach    FL                  NaN            NaN          NaN   \n",
       "1     Coral Springs    FL                  NaN            NaN          NaN   \n",
       "2      Lehigh Acres    FL  Other Injury / Pain            NaN          NaN   \n",
       "\n",
       "   age_at_time_of_injury airbag_deployed accident_type truck_bus_involved  \\\n",
       "0                    NaN             NaN           NaN                NaN   \n",
       "1                    NaN             NaN           NaN                NaN   \n",
       "2                    NaN             Yes     Multi Car                 No   \n",
       "\n",
       "  truck_involved taxi_involved potential_tbi state_of_injury  catastrophic  \\\n",
       "0            NaN           NaN           NaN             NaN             0   \n",
       "1            NaN           NaN           NaN             NaN             0   \n",
       "2            NaN            No            No             NaN             0   \n",
       "\n",
       "  called_911  net_attorney_fee  total_bills  total_coverage  \\\n",
       "0        NaN           1152.51          NaN             NaN   \n",
       "1        NaN           2499.25          NaN             NaN   \n",
       "2        Yes          16666.67     30603.62         50000.0   \n",
       "\n",
       "  positive_mri_finding life_care_plan_status ortho_pain_neuro_eval  \\\n",
       "0                  NaN                   NaN                   NaN   \n",
       "1                  NaN                   NaN                   NaN   \n",
       "2                  Yes                   Yes                   Yes   \n",
       "\n",
       "  surgery_completed surgery_injection_recom similar_prior_injury  \\\n",
       "0               NaN                     NaN                  NaN   \n",
       "1               NaN                     NaN                  NaN   \n",
       "2               NaN                      No                   No   \n",
       "\n",
       "  injections_completed no_treatment_reason  tbi_confirmed   age  \n",
       "0                  NaN                 NaN              0  65.0  \n",
       "1                  NaN                 NaN              0  39.0  \n",
       "2                  NaN                 NaN              0  41.0  "
      ]
     },
     "execution_count": 7,
     "metadata": {},
     "output_type": "execute_result"
    }
   ],
   "source": [
    "sample.head(3)"
   ]
  },
  {
   "cell_type": "code",
   "execution_count": 11,
   "id": "a5986887-96ef-4027-ae87-ddade9ab2979",
   "metadata": {},
   "outputs": [
    {
     "data": {
      "text/plain": [
       "7051"
      ]
     },
     "execution_count": 11,
     "metadata": {},
     "output_type": "execute_result"
    }
   ],
   "source": [
    "(sample[\"total_bills\"] > sample[\"total_coverage\"]).sum()"
   ]
  },
  {
   "cell_type": "code",
   "execution_count": 12,
   "id": "a25d4370-98be-4690-bf5b-c94e8ebb4fcb",
   "metadata": {},
   "outputs": [
    {
     "data": {
      "text/plain": [
       "26940"
      ]
     },
     "execution_count": 12,
     "metadata": {},
     "output_type": "execute_result"
    }
   ],
   "source": [
    "7051 + 19889"
   ]
  },
  {
   "cell_type": "code",
   "execution_count": 23,
   "id": "d8968f6c-401a-4896-b2a4-7b54cc7bcdbb",
   "metadata": {},
   "outputs": [
    {
     "data": {
      "text/plain": [
       "<Axes: >"
      ]
     },
     "execution_count": 23,
     "metadata": {},
     "output_type": "execute_result"
    },
    {
     "data": {
      "image/png": "[encoded data removed]",
      "text/plain": [
       "<Figure size 640x480 with 1 Axes>"
      ]
     },
     "metadata": {},
     "output_type": "display_data"
    }
   ],
   "source": [
    "sample[sample[\"total_bills\"] < sample[\"total_bills\"].quantile(.975)]['total_bills'].hist()"
   ]
  },
  {
   "cell_type": "code",
   "execution_count": 30,
   "id": "59582ed1-3bb8-4ff6-8c34-2d7e24303025",
   "metadata": {},
   "outputs": [
    {
     "data": {
      "image/png": "[encoded data removed]",
      "text/plain": [
       "<Figure size 640x480 with 1 Axes>"
      ]
     },
     "metadata": {},
     "output_type": "display_data"
    }
   ],
   "source": [
    "bills_nofliers = sample[sample[\"total_bills\"] < sample[\"total_bills\"].quantile(.975)]['total_bills']\n",
    "legal_nofliers = sample[sample[\"total_bills\"] < sample[\"total_bills\"].quantile(.975)]['net_attorney_fee']\n",
    "(bills_nofliers - legal_nofliers).dropna().hist(bins=np.arange(-58000, 165000, 2500));"
   ]
  },
  {
   "cell_type": "code",
   "execution_count": 43,
   "id": "e58a94b5-5416-4905-987e-92c581a9a777",
   "metadata": {},
   "outputs": [
    {
     "data": {
      "image/png": "[encoded data removed]",
      "text/plain": [
       "<Figure size 640x480 with 1 Axes>"
      ]
     },
     "metadata": {},
     "output_type": "display_data"
    }
   ],
   "source": [
    "bills_nofliers.hist(bins=np.arange(-1_000, 170_000, 2000))\n",
    "plt.axvline(bills_nofliers.median(), color=\"red\", linestyle=\"--\", label=\"Median\")\n",
    "plt.axvline(bills_nofliers.mean(), color = \"orange\", linestyle=\"--\", label=\"Mean\")\n",
    "plt.legend();"
   ]
  },
  {
   "cell_type": "code",
   "execution_count": 37,
   "id": "c7e623f8-b561-4b13-b34b-0612484d9566",
   "metadata": {},
   "outputs": [
    {
     "data": {
      "text/plain": [
       "0"
      ]
     },
     "execution_count": 37,
     "metadata": {},
     "output_type": "execute_result"
    }
   ],
   "source": [
    "(bills_nofliers < 0).sum()"
   ]
  },
  {
   "cell_type": "code",
   "execution_count": 39,
   "id": "3062258c-dd0d-4486-bc14-b87700f2a105",
   "metadata": {},
   "outputs": [
    {
     "data": {
      "text/plain": [
       "count    3.123300e+04\n",
       "mean     1.334782e+04\n",
       "std      4.472617e+04\n",
       "min     -1.141620e+04\n",
       "25%      3.333330e+03\n",
       "50%      6.666660e+03\n",
       "75%      1.250000e+04\n",
       "max      3.791127e+06\n",
       "Name: net_attorney_fee, dtype: float64"
      ]
     },
     "execution_count": 39,
     "metadata": {},
     "output_type": "execute_result"
    }
   ],
   "source": [
    "legal_nofliers.describe()"
   ]
  },
  {
   "cell_type": "code",
   "execution_count": 42,
   "id": "b59ada7c-541a-4860-8d71-3ac3c24819c7",
   "metadata": {},
   "outputs": [
    {
     "data": {
      "text/html": [
       "<div>\n",
       "<style scoped>\n",
       "    .dataframe tbody tr th:only-of-type {\n",
       "        vertical-align: middle;\n",
       "    }\n",
       "\n",
       "    .dataframe tbody tr th {\n",
       "        vertical-align: top;\n",
       "    }\n",
       "\n",
       "    .dataframe thead th {\n",
       "        text-align: right;\n",
       "    }\n",
       "</style>\n",
       "<table border=\"1\" class=\"dataframe\">\n",
       "  <thead>\n",
       "    <tr style=\"text-align: right;\">\n",
       "      <th></th>\n",
       "      <th>Row_Labels</th>\n",
       "      <th>Sum_of_PaidAmount</th>\n",
       "      <th>MemberID</th>\n",
       "      <th>Member_Effective_Date</th>\n",
       "      <th>Gender</th>\n",
       "      <th>Age_at_Time_of_Claim</th>\n",
       "      <th>Incurred_Date</th>\n",
       "      <th>Year</th>\n",
       "      <th>Diag_1</th>\n",
       "      <th>ICD_10_Roll_Up</th>\n",
       "      <th>Diag_2</th>\n",
       "      <th>IFM_PCP</th>\n",
       "      <th>Baseline_Comorbidities</th>\n",
       "      <th>Allowed</th>\n",
       "      <th>IFM_PCP2</th>\n",
       "    </tr>\n",
       "  </thead>\n",
       "  <tbody>\n",
       "    <tr>\n",
       "      <th>0</th>\n",
       "      <td>10018301460</td>\n",
       "      <td>99.86</td>\n",
       "      <td>1155</td>\n",
       "      <td>1/1/2010</td>\n",
       "      <td>F</td>\n",
       "      <td>64</td>\n",
       "      <td>1/5/2010</td>\n",
       "      <td>2010</td>\n",
       "      <td>71946</td>\n",
       "      <td>Diseases of the musculoskeletal system and con...</td>\n",
       "      <td>- None -</td>\n",
       "      <td>Y</td>\n",
       "      <td>3</td>\n",
       "      <td>129.86</td>\n",
       "      <td>Y</td>\n",
       "    </tr>\n",
       "  </tbody>\n",
       "</table>\n",
       "</div>"
      ],
      "text/plain": [
       "    Row_Labels  Sum_of_PaidAmount  MemberID Member_Effective_Date Gender  \\\n",
       "0  10018301460              99.86      1155              1/1/2010      F   \n",
       "\n",
       "   Age_at_Time_of_Claim Incurred_Date  Year Diag_1  \\\n",
       "0                    64      1/5/2010  2010  71946   \n",
       "\n",
       "                                      ICD_10_Roll_Up    Diag_2 IFM_PCP  \\\n",
       "0  Diseases of the musculoskeletal system and con...  - None -       Y   \n",
       "\n",
       "   Baseline_Comorbidities  Allowed IFM_PCP2  \n",
       "0                       3   129.86        Y  "
      ]
     },
     "execution_count": 42,
     "metadata": {},
     "output_type": "execute_result"
    }
   ],
   "source": [
    "df.head(1)"
   ]
  },
  {
   "cell_type": "code",
   "execution_count": 43,
   "id": "3ce50a34-cf78-4204-9300-b9af8dfc79bd",
   "metadata": {},
   "outputs": [
    {
     "data": {
      "text/plain": [
       "(31448, 15)"
      ]
     },
     "execution_count": 43,
     "metadata": {},
     "output_type": "execute_result"
    }
   ],
   "source": [
    "df.shape"
   ]
  },
  {
   "cell_type": "code",
   "execution_count": 44,
   "id": "3dd2f09b-c22a-42ef-ae5e-e0c8ba5ffde9",
   "metadata": {},
   "outputs": [],
   "source": [
    "# Making all of the column names lowercase\n",
    "df.columns = df.columns.str.lower()"
   ]
  },
  {
   "cell_type": "code",
   "execution_count": 45,
   "id": "2e08ed0b-89cd-45ab-a083-dc8baf3ef2d3",
   "metadata": {},
   "outputs": [],
   "source": [
    "# Re-naming with underscores and appropriate column names to match other data where possible \n",
    "df.rename(columns={\"sum_of_paidamount\":\"sum_of_paid_amount\", \n",
    "                   \"memberid\":\"member_id\", \n",
    "                   \"age_at_time_of_claim\":\"age\"}, inplace=True)"
   ]
  },
  {
   "cell_type": "code",
   "execution_count": 46,
   "id": "07a58778-0ae8-4006-a781-eb76db307d55",
   "metadata": {},
   "outputs": [],
   "source": [
    "# datetimes are formatted %Y-%m-%d and there are WAY more entries for January than any other month\n",
    "\n",
    "df[\"member_effective_date\"] = pd.to_datetime(df[\"member_effective_date\"])"
   ]
  },
  {
   "cell_type": "code",
   "execution_count": 49,
   "id": "b873d2de-ca24-48aa-ad2f-cd689617697f",
   "metadata": {},
   "outputs": [
    {
     "data": {
      "text/plain": [
       "member_effective_date\n",
       "2010-01-01    19738\n",
       "2015-01-01     1236\n",
       "2016-10-01      784\n",
       "2012-09-01      755\n",
       "2015-09-01      638\n",
       "              ...  \n",
       "2021-04-01        1\n",
       "2015-11-01        1\n",
       "2013-10-01        1\n",
       "2017-12-01        1\n",
       "2016-06-01        1\n",
       "Name: count, Length: 103, dtype: int64"
      ]
     },
     "execution_count": 49,
     "metadata": {},
     "output_type": "execute_result"
    }
   ],
   "source": [
    "# Seems to be a huge data dump at the start of this dataset for 2010-01-01, must be investigated\n",
    "df[\"member_effective_date\"].value_counts()"
   ]
  },
  {
   "cell_type": "code",
   "execution_count": 50,
   "id": "8502604f-4967-4241-9bc0-2c4ef54e12ba",
   "metadata": {},
   "outputs": [
    {
     "data": {
      "text/html": [
       "<div>\n",
       "<style scoped>\n",
       "    .dataframe tbody tr th:only-of-type {\n",
       "        vertical-align: middle;\n",
       "    }\n",
       "\n",
       "    .dataframe tbody tr th {\n",
       "        vertical-align: top;\n",
       "    }\n",
       "\n",
       "    .dataframe thead th {\n",
       "        text-align: right;\n",
       "    }\n",
       "</style>\n",
       "<table border=\"1\" class=\"dataframe\">\n",
       "  <thead>\n",
       "    <tr style=\"text-align: right;\">\n",
       "      <th></th>\n",
       "      <th>row_labels</th>\n",
       "      <th>sum_of_paid_amount</th>\n",
       "      <th>member_id</th>\n",
       "      <th>member_effective_date</th>\n",
       "      <th>gender</th>\n",
       "      <th>age</th>\n",
       "      <th>incurred_date</th>\n",
       "      <th>year</th>\n",
       "      <th>diag_1</th>\n",
       "      <th>icd_10_roll_up</th>\n",
       "      <th>diag_2</th>\n",
       "      <th>ifm_pcp</th>\n",
       "      <th>baseline_comorbidities</th>\n",
       "      <th>allowed</th>\n",
       "      <th>ifm_pcp2</th>\n",
       "    </tr>\n",
       "  </thead>\n",
       "  <tbody>\n",
       "    <tr>\n",
       "      <th>0</th>\n",
       "      <td>10018301460</td>\n",
       "      <td>99.86</td>\n",
       "      <td>1155</td>\n",
       "      <td>2010-01-01</td>\n",
       "      <td>F</td>\n",
       "      <td>64</td>\n",
       "      <td>1/5/2010</td>\n",
       "      <td>2010</td>\n",
       "      <td>71946</td>\n",
       "      <td>Diseases of the musculoskeletal system and con...</td>\n",
       "      <td>- None -</td>\n",
       "      <td>Y</td>\n",
       "      <td>3</td>\n",
       "      <td>129.86</td>\n",
       "      <td>Y</td>\n",
       "    </tr>\n",
       "    <tr>\n",
       "      <th>1</th>\n",
       "      <td>10019000485</td>\n",
       "      <td>0.00</td>\n",
       "      <td>1749</td>\n",
       "      <td>2010-01-01</td>\n",
       "      <td>F</td>\n",
       "      <td>50</td>\n",
       "      <td>1/7/2010</td>\n",
       "      <td>2010</td>\n",
       "      <td>7394</td>\n",
       "      <td>Diseases of the musculoskeletal system and con...</td>\n",
       "      <td>- None -</td>\n",
       "      <td>Y</td>\n",
       "      <td>1</td>\n",
       "      <td>118.00</td>\n",
       "      <td>Y</td>\n",
       "    </tr>\n",
       "    <tr>\n",
       "      <th>2</th>\n",
       "      <td>10020004899</td>\n",
       "      <td>207.01</td>\n",
       "      <td>634</td>\n",
       "      <td>2010-01-01</td>\n",
       "      <td>M</td>\n",
       "      <td>18</td>\n",
       "      <td>1/11/2010</td>\n",
       "      <td>2010</td>\n",
       "      <td>7242</td>\n",
       "      <td>Diseases of the musculoskeletal system and con...</td>\n",
       "      <td>7222</td>\n",
       "      <td>Y</td>\n",
       "      <td>2</td>\n",
       "      <td>237.01</td>\n",
       "      <td>Y</td>\n",
       "    </tr>\n",
       "    <tr>\n",
       "      <th>3</th>\n",
       "      <td>10026005225</td>\n",
       "      <td>0.00</td>\n",
       "      <td>826</td>\n",
       "      <td>2010-01-01</td>\n",
       "      <td>F</td>\n",
       "      <td>49</td>\n",
       "      <td>1/20/2010</td>\n",
       "      <td>2010</td>\n",
       "      <td>7245</td>\n",
       "      <td>Diseases of the musculoskeletal system and con...</td>\n",
       "      <td>7391</td>\n",
       "      <td>Y</td>\n",
       "      <td>1</td>\n",
       "      <td>90.00</td>\n",
       "      <td>Y</td>\n",
       "    </tr>\n",
       "    <tr>\n",
       "      <th>4</th>\n",
       "      <td>10027005532</td>\n",
       "      <td>82.26</td>\n",
       "      <td>854</td>\n",
       "      <td>2010-01-01</td>\n",
       "      <td>F</td>\n",
       "      <td>48</td>\n",
       "      <td>1/6/2010</td>\n",
       "      <td>2010</td>\n",
       "      <td>7100</td>\n",
       "      <td>Diseases of the musculoskeletal system and con...</td>\n",
       "      <td>- None -</td>\n",
       "      <td>NaN</td>\n",
       "      <td>2</td>\n",
       "      <td>102.83</td>\n",
       "      <td>N</td>\n",
       "    </tr>\n",
       "  </tbody>\n",
       "</table>\n",
       "</div>"
      ],
      "text/plain": [
       "    row_labels  sum_of_paid_amount  member_id member_effective_date gender  \\\n",
       "0  10018301460               99.86       1155            2010-01-01      F   \n",
       "1  10019000485                0.00       1749            2010-01-01      F   \n",
       "2  10020004899              207.01        634            2010-01-01      M   \n",
       "3  10026005225                0.00        826            2010-01-01      F   \n",
       "4  10027005532               82.26        854            2010-01-01      F   \n",
       "\n",
       "   age incurred_date  year diag_1  \\\n",
       "0   64      1/5/2010  2010  71946   \n",
       "1   50      1/7/2010  2010   7394   \n",
       "2   18     1/11/2010  2010   7242   \n",
       "3   49     1/20/2010  2010   7245   \n",
       "4   48      1/6/2010  2010   7100   \n",
       "\n",
       "                                      icd_10_roll_up    diag_2 ifm_pcp  \\\n",
       "0  Diseases of the musculoskeletal system and con...  - None -       Y   \n",
       "1  Diseases of the musculoskeletal system and con...  - None -       Y   \n",
       "2  Diseases of the musculoskeletal system and con...      7222       Y   \n",
       "3  Diseases of the musculoskeletal system and con...      7391       Y   \n",
       "4  Diseases of the musculoskeletal system and con...  - None -     NaN   \n",
       "\n",
       "   baseline_comorbidities  allowed ifm_pcp2  \n",
       "0                       3   129.86        Y  \n",
       "1                       1   118.00        Y  \n",
       "2                       2   237.01        Y  \n",
       "3                       1    90.00        Y  \n",
       "4                       2   102.83        N  "
      ]
     },
     "execution_count": 50,
     "metadata": {},
     "output_type": "execute_result"
    }
   ],
   "source": [
    "df.head()"
   ]
  },
  {
   "cell_type": "code",
   "execution_count": 52,
   "id": "0c68c811-a31f-4f42-afe6-1a2d1bfc7802",
   "metadata": {},
   "outputs": [],
   "source": [
    "# Once again, reformatting date data, initial format: month/day/year -> Year/month/day\n",
    "df[\"incurred_date\"] = pd.to_datetime(df[\"incurred_date\"])"
   ]
  },
  {
   "cell_type": "code",
   "execution_count": 53,
   "id": "16ecda77-aa25-45e6-bda1-0dbd39b47f52",
   "metadata": {},
   "outputs": [
    {
     "name": "stdout",
     "output_type": "stream",
     "text": [
      "<class 'pandas.core.frame.DataFrame'>\n",
      "RangeIndex: 31448 entries, 0 to 31447\n",
      "Data columns (total 15 columns):\n",
      " #   Column                  Non-Null Count  Dtype         \n",
      "---  ------                  --------------  -----         \n",
      " 0   row_labels              31448 non-null  int64         \n",
      " 1   sum_of_paid_amount      31448 non-null  float64       \n",
      " 2   member_id               31448 non-null  int64         \n",
      " 3   member_effective_date   31448 non-null  datetime64[ns]\n",
      " 4   gender                  31448 non-null  object        \n",
      " 5   age                     31448 non-null  int64         \n",
      " 6   incurred_date           31448 non-null  datetime64[ns]\n",
      " 7   year                    31448 non-null  int64         \n",
      " 8   diag_1                  31377 non-null  object        \n",
      " 9   icd_10_roll_up          31448 non-null  object        \n",
      " 10  diag_2                  23479 non-null  object        \n",
      " 11  ifm_pcp                 17162 non-null  object        \n",
      " 12  baseline_comorbidities  31448 non-null  int64         \n",
      " 13  allowed                 31448 non-null  float64       \n",
      " 14  ifm_pcp2                31448 non-null  object        \n",
      "dtypes: datetime64[ns](2), float64(2), int64(5), object(6)\n",
      "memory usage: 3.6+ MB\n"
     ]
    }
   ],
   "source": [
    "df.info()"
   ]
  },
  {
   "cell_type": "markdown",
   "id": "18f433ae-e598-4cd9-871f-e8c843276625",
   "metadata": {},
   "source": [
    "### Data Check\n",
    "\n",
    "The data currently have the correct data types. The steps that were taken are as follows:\n",
    "- Lowercase column names\n",
    "- Add underscores to separate each word in a column name\n",
    "- Rename columns to conform to our general guidelines for column names so far\n",
    "- Convert Datetime information into Datetime datatypes -> member effective date is start of month, whereas incurred_date is more dynamic"
   ]
  },
  {
   "cell_type": "code",
   "execution_count": 55,
   "id": "59d63f29-6cce-4a3c-a04c-543a134addc6",
   "metadata": {},
   "outputs": [],
   "source": [
    "# Export the data\n",
    "df.to_csv(os.path.join(path, \"25_checked_and_formatted.csv\"))"
   ]
  },
  {
   "cell_type": "code",
   "execution_count": null,
   "id": "88e358bd-76b6-469d-aa16-0ca7ca75bc50",
   "metadata": {},
   "outputs": [],
   "source": []
  }
 ],
 "metadata": {
  "kernelspec": {
   "display_name": "omdena",
   "language": "python",
   "name": "omdena"
  },
  "language_info": {
   "codemirror_mode": {
    "name": "ipython",
    "version": 3
   },
   "file_extension": ".py",
   "mimetype": "text/x-python",
   "name": "python",
   "nbconvert_exporter": "python",
   "pygments_lexer": "ipython3",
   "version": "3.10.14"
  }
 },
 "nbformat": 4,
 "nbformat_minor": 5
}
